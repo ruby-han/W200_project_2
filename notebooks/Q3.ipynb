{
 "cells": [
  {
   "cell_type": "markdown",
   "metadata": {},
   "source": [
    "Annotation\n",
    "\n",
    "https://www.govtech.com/data/Just-How-Common-Are-Body-Cameras-in-Police-Departments.html\n",
    "https://www.ncjrs.gov/pdffiles1/nij/grants/251416.pdf\n",
    "https://www.bjs.gov/content/pub/pdf/bwclea16.pdf\n",
    "https://nij.ojp.gov/topics/articles/research-body-worn-cameras-and-law-enforcement#noteReferrer3"
   ]
  },
  {
   "cell_type": "code",
   "execution_count": 1,
   "metadata": {},
   "outputs": [],
   "source": [
    "import pandas as pd\n",
    "import matplotlib.pyplot as plt\n",
    "import datetime\n",
    "import numpy as np\n",
    "import seaborn as sb"
   ]
  },
  {
   "cell_type": "code",
   "execution_count": 2,
   "metadata": {},
   "outputs": [
    {
     "data": {
      "text/html": [
       "<div>\n",
       "<style scoped>\n",
       "    .dataframe tbody tr th:only-of-type {\n",
       "        vertical-align: middle;\n",
       "    }\n",
       "\n",
       "    .dataframe tbody tr th {\n",
       "        vertical-align: top;\n",
       "    }\n",
       "\n",
       "    .dataframe thead th {\n",
       "        text-align: right;\n",
       "    }\n",
       "</style>\n",
       "<table border=\"1\" class=\"dataframe\">\n",
       "  <thead>\n",
       "    <tr style=\"text-align: right;\">\n",
       "      <th></th>\n",
       "      <th>id</th>\n",
       "      <th>name</th>\n",
       "      <th>date</th>\n",
       "      <th>manner_of_death</th>\n",
       "      <th>armed</th>\n",
       "      <th>age</th>\n",
       "      <th>gender</th>\n",
       "      <th>race</th>\n",
       "      <th>city</th>\n",
       "      <th>state</th>\n",
       "      <th>signs_of_mental_illness</th>\n",
       "      <th>threat_level</th>\n",
       "      <th>flee</th>\n",
       "      <th>body_camera</th>\n",
       "      <th>longitude</th>\n",
       "      <th>latitude</th>\n",
       "      <th>is_geocoding_exact</th>\n",
       "    </tr>\n",
       "  </thead>\n",
       "  <tbody>\n",
       "    <tr>\n",
       "      <th>0</th>\n",
       "      <td>3</td>\n",
       "      <td>Tim Elliot</td>\n",
       "      <td>2015-01-02</td>\n",
       "      <td>shot</td>\n",
       "      <td>gun</td>\n",
       "      <td>53.0</td>\n",
       "      <td>M</td>\n",
       "      <td>A</td>\n",
       "      <td>Shelton</td>\n",
       "      <td>WA</td>\n",
       "      <td>True</td>\n",
       "      <td>attack</td>\n",
       "      <td>Not fleeing</td>\n",
       "      <td>False</td>\n",
       "      <td>-123.122</td>\n",
       "      <td>47.247</td>\n",
       "      <td>True</td>\n",
       "    </tr>\n",
       "    <tr>\n",
       "      <th>1</th>\n",
       "      <td>4</td>\n",
       "      <td>Lewis Lee Lembke</td>\n",
       "      <td>2015-01-02</td>\n",
       "      <td>shot</td>\n",
       "      <td>gun</td>\n",
       "      <td>47.0</td>\n",
       "      <td>M</td>\n",
       "      <td>W</td>\n",
       "      <td>Aloha</td>\n",
       "      <td>OR</td>\n",
       "      <td>False</td>\n",
       "      <td>attack</td>\n",
       "      <td>Not fleeing</td>\n",
       "      <td>False</td>\n",
       "      <td>-122.892</td>\n",
       "      <td>45.487</td>\n",
       "      <td>True</td>\n",
       "    </tr>\n",
       "    <tr>\n",
       "      <th>2</th>\n",
       "      <td>5</td>\n",
       "      <td>John Paul Quintero</td>\n",
       "      <td>2015-01-03</td>\n",
       "      <td>shot and Tasered</td>\n",
       "      <td>unarmed</td>\n",
       "      <td>23.0</td>\n",
       "      <td>M</td>\n",
       "      <td>H</td>\n",
       "      <td>Wichita</td>\n",
       "      <td>KS</td>\n",
       "      <td>False</td>\n",
       "      <td>other</td>\n",
       "      <td>Not fleeing</td>\n",
       "      <td>False</td>\n",
       "      <td>-97.281</td>\n",
       "      <td>37.695</td>\n",
       "      <td>True</td>\n",
       "    </tr>\n",
       "    <tr>\n",
       "      <th>3</th>\n",
       "      <td>8</td>\n",
       "      <td>Matthew Hoffman</td>\n",
       "      <td>2015-01-04</td>\n",
       "      <td>shot</td>\n",
       "      <td>toy weapon</td>\n",
       "      <td>32.0</td>\n",
       "      <td>M</td>\n",
       "      <td>W</td>\n",
       "      <td>San Francisco</td>\n",
       "      <td>CA</td>\n",
       "      <td>True</td>\n",
       "      <td>attack</td>\n",
       "      <td>Not fleeing</td>\n",
       "      <td>False</td>\n",
       "      <td>-122.422</td>\n",
       "      <td>37.763</td>\n",
       "      <td>True</td>\n",
       "    </tr>\n",
       "    <tr>\n",
       "      <th>4</th>\n",
       "      <td>9</td>\n",
       "      <td>Michael Rodriguez</td>\n",
       "      <td>2015-01-04</td>\n",
       "      <td>shot</td>\n",
       "      <td>nail gun</td>\n",
       "      <td>39.0</td>\n",
       "      <td>M</td>\n",
       "      <td>H</td>\n",
       "      <td>Evans</td>\n",
       "      <td>CO</td>\n",
       "      <td>False</td>\n",
       "      <td>attack</td>\n",
       "      <td>Not fleeing</td>\n",
       "      <td>False</td>\n",
       "      <td>-104.692</td>\n",
       "      <td>40.384</td>\n",
       "      <td>True</td>\n",
       "    </tr>\n",
       "  </tbody>\n",
       "</table>\n",
       "</div>"
      ],
      "text/plain": [
       "   id                name        date   manner_of_death       armed   age  \\\n",
       "0   3          Tim Elliot  2015-01-02              shot         gun  53.0   \n",
       "1   4    Lewis Lee Lembke  2015-01-02              shot         gun  47.0   \n",
       "2   5  John Paul Quintero  2015-01-03  shot and Tasered     unarmed  23.0   \n",
       "3   8     Matthew Hoffman  2015-01-04              shot  toy weapon  32.0   \n",
       "4   9   Michael Rodriguez  2015-01-04              shot    nail gun  39.0   \n",
       "\n",
       "  gender race           city state  signs_of_mental_illness threat_level  \\\n",
       "0      M    A        Shelton    WA                     True       attack   \n",
       "1      M    W          Aloha    OR                    False       attack   \n",
       "2      M    H        Wichita    KS                    False        other   \n",
       "3      M    W  San Francisco    CA                     True       attack   \n",
       "4      M    H          Evans    CO                    False       attack   \n",
       "\n",
       "          flee  body_camera  longitude  latitude  is_geocoding_exact  \n",
       "0  Not fleeing        False   -123.122    47.247                True  \n",
       "1  Not fleeing        False   -122.892    45.487                True  \n",
       "2  Not fleeing        False    -97.281    37.695                True  \n",
       "3  Not fleeing        False   -122.422    37.763                True  \n",
       "4  Not fleeing        False   -104.692    40.384                True  "
      ]
     },
     "execution_count": 2,
     "metadata": {},
     "output_type": "execute_result"
    }
   ],
   "source": [
    "df = pd.read_csv(\"C:/Users/ruilli/Documents/GitHub/Project2_Han_Liu_Gao/data/fatal-police-shootings-data.csv\")\n",
    "df.head()"
   ]
  },
  {
   "cell_type": "code",
   "execution_count": 3,
   "metadata": {},
   "outputs": [
    {
     "data": {
      "text/html": [
       "<div>\n",
       "<style scoped>\n",
       "    .dataframe tbody tr th:only-of-type {\n",
       "        vertical-align: middle;\n",
       "    }\n",
       "\n",
       "    .dataframe tbody tr th {\n",
       "        vertical-align: top;\n",
       "    }\n",
       "\n",
       "    .dataframe thead th {\n",
       "        text-align: right;\n",
       "    }\n",
       "</style>\n",
       "<table border=\"1\" class=\"dataframe\">\n",
       "  <thead>\n",
       "    <tr style=\"text-align: right;\">\n",
       "      <th></th>\n",
       "      <th>id</th>\n",
       "      <th>name</th>\n",
       "      <th>date</th>\n",
       "      <th>manner_of_death</th>\n",
       "      <th>armed</th>\n",
       "      <th>age</th>\n",
       "      <th>gender</th>\n",
       "      <th>race</th>\n",
       "      <th>city</th>\n",
       "      <th>state</th>\n",
       "      <th>signs_of_mental_illness</th>\n",
       "      <th>threat_level</th>\n",
       "      <th>flee</th>\n",
       "      <th>body_camera</th>\n",
       "      <th>longitude</th>\n",
       "      <th>latitude</th>\n",
       "      <th>is_geocoding_exact</th>\n",
       "      <th>year</th>\n",
       "    </tr>\n",
       "  </thead>\n",
       "  <tbody>\n",
       "    <tr>\n",
       "      <th>0</th>\n",
       "      <td>3</td>\n",
       "      <td>Tim Elliot</td>\n",
       "      <td>2015-01-02</td>\n",
       "      <td>shot</td>\n",
       "      <td>gun</td>\n",
       "      <td>53.0</td>\n",
       "      <td>M</td>\n",
       "      <td>A</td>\n",
       "      <td>Shelton</td>\n",
       "      <td>WA</td>\n",
       "      <td>True</td>\n",
       "      <td>attack</td>\n",
       "      <td>Not fleeing</td>\n",
       "      <td>False</td>\n",
       "      <td>-123.122</td>\n",
       "      <td>47.247</td>\n",
       "      <td>True</td>\n",
       "      <td>2015</td>\n",
       "    </tr>\n",
       "    <tr>\n",
       "      <th>1</th>\n",
       "      <td>4</td>\n",
       "      <td>Lewis Lee Lembke</td>\n",
       "      <td>2015-01-02</td>\n",
       "      <td>shot</td>\n",
       "      <td>gun</td>\n",
       "      <td>47.0</td>\n",
       "      <td>M</td>\n",
       "      <td>W</td>\n",
       "      <td>Aloha</td>\n",
       "      <td>OR</td>\n",
       "      <td>False</td>\n",
       "      <td>attack</td>\n",
       "      <td>Not fleeing</td>\n",
       "      <td>False</td>\n",
       "      <td>-122.892</td>\n",
       "      <td>45.487</td>\n",
       "      <td>True</td>\n",
       "      <td>2015</td>\n",
       "    </tr>\n",
       "    <tr>\n",
       "      <th>2</th>\n",
       "      <td>5</td>\n",
       "      <td>John Paul Quintero</td>\n",
       "      <td>2015-01-03</td>\n",
       "      <td>shot and Tasered</td>\n",
       "      <td>unarmed</td>\n",
       "      <td>23.0</td>\n",
       "      <td>M</td>\n",
       "      <td>H</td>\n",
       "      <td>Wichita</td>\n",
       "      <td>KS</td>\n",
       "      <td>False</td>\n",
       "      <td>other</td>\n",
       "      <td>Not fleeing</td>\n",
       "      <td>False</td>\n",
       "      <td>-97.281</td>\n",
       "      <td>37.695</td>\n",
       "      <td>True</td>\n",
       "      <td>2015</td>\n",
       "    </tr>\n",
       "    <tr>\n",
       "      <th>3</th>\n",
       "      <td>8</td>\n",
       "      <td>Matthew Hoffman</td>\n",
       "      <td>2015-01-04</td>\n",
       "      <td>shot</td>\n",
       "      <td>toy weapon</td>\n",
       "      <td>32.0</td>\n",
       "      <td>M</td>\n",
       "      <td>W</td>\n",
       "      <td>San Francisco</td>\n",
       "      <td>CA</td>\n",
       "      <td>True</td>\n",
       "      <td>attack</td>\n",
       "      <td>Not fleeing</td>\n",
       "      <td>False</td>\n",
       "      <td>-122.422</td>\n",
       "      <td>37.763</td>\n",
       "      <td>True</td>\n",
       "      <td>2015</td>\n",
       "    </tr>\n",
       "    <tr>\n",
       "      <th>4</th>\n",
       "      <td>9</td>\n",
       "      <td>Michael Rodriguez</td>\n",
       "      <td>2015-01-04</td>\n",
       "      <td>shot</td>\n",
       "      <td>nail gun</td>\n",
       "      <td>39.0</td>\n",
       "      <td>M</td>\n",
       "      <td>H</td>\n",
       "      <td>Evans</td>\n",
       "      <td>CO</td>\n",
       "      <td>False</td>\n",
       "      <td>attack</td>\n",
       "      <td>Not fleeing</td>\n",
       "      <td>False</td>\n",
       "      <td>-104.692</td>\n",
       "      <td>40.384</td>\n",
       "      <td>True</td>\n",
       "      <td>2015</td>\n",
       "    </tr>\n",
       "  </tbody>\n",
       "</table>\n",
       "</div>"
      ],
      "text/plain": [
       "   id                name        date   manner_of_death       armed   age  \\\n",
       "0   3          Tim Elliot  2015-01-02              shot         gun  53.0   \n",
       "1   4    Lewis Lee Lembke  2015-01-02              shot         gun  47.0   \n",
       "2   5  John Paul Quintero  2015-01-03  shot and Tasered     unarmed  23.0   \n",
       "3   8     Matthew Hoffman  2015-01-04              shot  toy weapon  32.0   \n",
       "4   9   Michael Rodriguez  2015-01-04              shot    nail gun  39.0   \n",
       "\n",
       "  gender race           city state  signs_of_mental_illness threat_level  \\\n",
       "0      M    A        Shelton    WA                     True       attack   \n",
       "1      M    W          Aloha    OR                    False       attack   \n",
       "2      M    H        Wichita    KS                    False        other   \n",
       "3      M    W  San Francisco    CA                     True       attack   \n",
       "4      M    H          Evans    CO                    False       attack   \n",
       "\n",
       "          flee  body_camera  longitude  latitude  is_geocoding_exact  year  \n",
       "0  Not fleeing        False   -123.122    47.247                True  2015  \n",
       "1  Not fleeing        False   -122.892    45.487                True  2015  \n",
       "2  Not fleeing        False    -97.281    37.695                True  2015  \n",
       "3  Not fleeing        False   -122.422    37.763                True  2015  \n",
       "4  Not fleeing        False   -104.692    40.384                True  2015  "
      ]
     },
     "execution_count": 3,
     "metadata": {},
     "output_type": "execute_result"
    }
   ],
   "source": [
    "df['year'] = pd.DatetimeIndex(df['date']).year\n",
    "\n",
    "df.head()"
   ]
  },
  {
   "cell_type": "code",
   "execution_count": 5,
   "metadata": {},
   "outputs": [
    {
     "data": {
      "text/html": [
       "<div>\n",
       "<style scoped>\n",
       "    .dataframe tbody tr th:only-of-type {\n",
       "        vertical-align: middle;\n",
       "    }\n",
       "\n",
       "    .dataframe tbody tr th {\n",
       "        vertical-align: top;\n",
       "    }\n",
       "\n",
       "    .dataframe thead th {\n",
       "        text-align: right;\n",
       "    }\n",
       "</style>\n",
       "<table border=\"1\" class=\"dataframe\">\n",
       "  <thead>\n",
       "    <tr style=\"text-align: right;\">\n",
       "      <th>threat_level</th>\n",
       "      <th>attack</th>\n",
       "      <th>other</th>\n",
       "      <th>undetermined</th>\n",
       "    </tr>\n",
       "    <tr>\n",
       "      <th>body_camera</th>\n",
       "      <th></th>\n",
       "      <th></th>\n",
       "      <th></th>\n",
       "    </tr>\n",
       "  </thead>\n",
       "  <tbody>\n",
       "    <tr>\n",
       "      <th>False</th>\n",
       "      <td>2738</td>\n",
       "      <td>1294</td>\n",
       "      <td>173</td>\n",
       "    </tr>\n",
       "    <tr>\n",
       "      <th>True</th>\n",
       "      <td>346</td>\n",
       "      <td>203</td>\n",
       "      <td>22</td>\n",
       "    </tr>\n",
       "  </tbody>\n",
       "</table>\n",
       "</div>"
      ],
      "text/plain": [
       "threat_level  attack  other  undetermined\n",
       "body_camera                              \n",
       "False           2738   1294           173\n",
       "True             346    203            22"
      ]
     },
     "execution_count": 5,
     "metadata": {},
     "output_type": "execute_result"
    }
   ],
   "source": [
    "sub = df[~df['year'].isin(['2020'])]\n",
    "table = pd.pivot_table(sub,values='name',index='body_camera',columns='threat_level',aggfunc=lambda x: len(x.unique()))\n",
    "table"
   ]
  },
  {
   "cell_type": "code",
   "execution_count": 6,
   "metadata": {},
   "outputs": [
    {
     "data": {
      "text/html": [
       "<style  type=\"text/css\" >\n",
       "</style>  \n",
       "<table id=\"T_30fbb6fe_3aad_11eb_bbc1_f06e0be4cbab\" > \n",
       "<thead>    <tr> \n",
       "        <th class=\"index_name level0\" >threat_level</th> \n",
       "        <th class=\"col_heading level0 col0\" >attack</th> \n",
       "        <th class=\"col_heading level0 col1\" >other</th> \n",
       "        <th class=\"col_heading level0 col2\" >undetermined</th> \n",
       "    </tr>    <tr> \n",
       "        <th class=\"index_name level0\" >body_camera</th> \n",
       "        <th class=\"blank\" ></th> \n",
       "        <th class=\"blank\" ></th> \n",
       "        <th class=\"blank\" ></th> \n",
       "    </tr></thead> \n",
       "<tbody>    <tr> \n",
       "        <th id=\"T_30fbb6fe_3aad_11eb_bbc1_f06e0be4cbablevel0_row0\" class=\"row_heading level0 row0\" >False</th> \n",
       "        <td id=\"T_30fbb6fe_3aad_11eb_bbc1_f06e0be4cbabrow0_col0\" class=\"data row0 col0\" >88.78%</td> \n",
       "        <td id=\"T_30fbb6fe_3aad_11eb_bbc1_f06e0be4cbabrow0_col1\" class=\"data row0 col1\" >86.44%</td> \n",
       "        <td id=\"T_30fbb6fe_3aad_11eb_bbc1_f06e0be4cbabrow0_col2\" class=\"data row0 col2\" >88.72%</td> \n",
       "    </tr>    <tr> \n",
       "        <th id=\"T_30fbb6fe_3aad_11eb_bbc1_f06e0be4cbablevel0_row1\" class=\"row_heading level0 row1\" >True</th> \n",
       "        <td id=\"T_30fbb6fe_3aad_11eb_bbc1_f06e0be4cbabrow1_col0\" class=\"data row1 col0\" >11.22%</td> \n",
       "        <td id=\"T_30fbb6fe_3aad_11eb_bbc1_f06e0be4cbabrow1_col1\" class=\"data row1 col1\" >13.56%</td> \n",
       "        <td id=\"T_30fbb6fe_3aad_11eb_bbc1_f06e0be4cbabrow1_col2\" class=\"data row1 col2\" >11.28%</td> \n",
       "    </tr></tbody> \n",
       "</table> "
      ],
      "text/plain": [
       "<pandas.io.formats.style.Styler at 0x24ab788dbe0>"
      ]
     },
     "execution_count": 6,
     "metadata": {},
     "output_type": "execute_result"
    }
   ],
   "source": [
    "table2 = table.iloc[:]/table.iloc[:].sum()\n",
    "table2.style.format('{:.2%}')"
   ]
  },
  {
   "cell_type": "code",
   "execution_count": null,
   "metadata": {},
   "outputs": [],
   "source": [
    "tablex = pd.pivot_table(df,values='name',index='threat_level',columns='body_camera',aggfunc=lambda x: len(x.unique()))\n",
    "tablex"
   ]
  },
  {
   "cell_type": "code",
   "execution_count": null,
   "metadata": {},
   "outputs": [],
   "source": [
    "table3 = tablex.iloc[:]/tablex.iloc[:].sum()\n",
    "table3.style.format('{:.2%}')"
   ]
  },
  {
   "cell_type": "code",
   "execution_count": null,
   "metadata": {},
   "outputs": [],
   "source": [
    "df2 = df[['year','state','body_camera','name']]\n",
    "\n",
    "df2.head()\n"
   ]
  },
  {
   "cell_type": "code",
   "execution_count": null,
   "metadata": {
    "scrolled": true
   },
   "outputs": [],
   "source": [
    "nation_count = df2.groupby(['year','body_camera']).count()\n",
    "\n",
    "# nation_count['state'] = 'national'\n",
    "# nation_pct = nation_count.div(nation_count.sum(level=0),level=0)\n",
    "#level0 is year and level1 is threat_level, it is the same as groupby(['year','threat_level'])\n",
    "nation_pct = nation_count.groupby(level=0).apply(lambda x: x/x.sum())\n",
    "nation_pct['state'] = 'US'\n",
    "usfinal = nation_pct.reset_index()\n",
    "usfinal = usfinal[~usfinal['year'].isin(['2020'])]\n",
    "\n",
    "\n",
    "nation_count['state'] = 'US'\n",
    "uscount = nation_count.reset_index()\n",
    "uscount = uscount[~uscount['year'].isin(['2020'])]\n",
    "usfinal"
   ]
  },
  {
   "cell_type": "code",
   "execution_count": null,
   "metadata": {},
   "outputs": [],
   "source": [
    "nation_count2 = df2.groupby(['year']).count()\n",
    "nation_count2 = nation_count2.rename(columns={'name':'# of fatal shootings'})\n",
    "del nation_count2['body_camera']\n",
    "del nation_count2['state']\n",
    "nation_count2"
   ]
  },
  {
   "cell_type": "code",
   "execution_count": null,
   "metadata": {},
   "outputs": [],
   "source": [
    "usfinal2 = usfinal[usfinal['body_camera']==True]\n",
    "nation = pd.merge(usfinal2,nation_count2, on = 'year', how='left')\n",
    "nation = nation.rename(columns={'name':'% of incidents with body cameras'})\n",
    "nation"
   ]
  },
  {
   "cell_type": "code",
   "execution_count": null,
   "metadata": {},
   "outputs": [],
   "source": [
    "fig,ax1 = plt.subplots()\n",
    "y1 = nation['% of incidents with body cameras']\n",
    "y2 = nation['# of fatal shootings']\n",
    "x = nation['year']\n",
    "ax2 = ax1.twinx()\n",
    "ax1.plot(x,y1,'g-')\n",
    "ax2.plot(x,y2,'b-')"
   ]
  },
  {
   "cell_type": "code",
   "execution_count": null,
   "metadata": {},
   "outputs": [],
   "source": [
    "CA = df2[(df['state']=='CA')]\n",
    "CA_count = CA.groupby(['year','body_camera','state']).count()\n",
    "CA_pct = CA_count.groupby(level=0).apply(lambda x: x/x.sum())\n",
    "cafinal = CA_pct.reset_index()\n",
    "cafinal = cafinal[~cafinal['year'].isin(['2020'])]\n",
    "cacount = CA_count.reset_index()\n",
    "cacount = cacount[~cacount['year'].isin(['2020'])]\n",
    "cacount"
   ]
  },
  {
   "cell_type": "code",
   "execution_count": null,
   "metadata": {},
   "outputs": [],
   "source": [
    "cacount2 = CA.groupby(['year']).count()\n",
    "cacount2 = cacount2.rename(columns={'name':'# of fatal shootings'})\n",
    "del cacount2['body_camera']\n",
    "del cacount2['state']\n",
    "cacount2\n",
    "\n",
    "cafinal2 = cafinal[cafinal['body_camera']==True]\n",
    "\n",
    "cal = pd.merge(cafinal2,cacount2, on = 'year', how='left')\n",
    "cal = cal.rename(columns={'name':'% of incidents with body cameras'})\n",
    "cal"
   ]
  },
  {
   "cell_type": "code",
   "execution_count": null,
   "metadata": {},
   "outputs": [],
   "source": [
    "fig,ax3 = plt.subplots()\n",
    "y1 = cal['% of incidents with body cameras']\n",
    "y2 = cal['# of fatal shootings']\n",
    "x = cal['year']\n",
    "ax4 = ax3.twinx()\n",
    "ax3.plot(x,y1,'g-')\n",
    "ax4.plot(x,y2,'b-')"
   ]
  },
  {
   "cell_type": "code",
   "execution_count": null,
   "metadata": {},
   "outputs": [],
   "source": [
    "NV = df[(df['state']=='NV')]\n",
    "NV_count = NV.groupby(['year','body_camera','state']).count()\n",
    "NV_pct = NV_count.groupby(level=0).apply(lambda x: x/x.sum())\n",
    "nvfinal = NV_pct.reset_index()\n",
    "nvfinal = nvfinal[~nvfinal['year'].isin(['2020'])]\n",
    "\n",
    "nvcount = NV_count.reset_index()\n",
    "nvcount = nvcount[~nvcount['year'].isin(['2020'])]\n",
    "nvcount"
   ]
  },
  {
   "cell_type": "code",
   "execution_count": null,
   "metadata": {},
   "outputs": [],
   "source": [
    "nvcount2 = NV.groupby(['year']).count()\n",
    "nvcount2 = nvcount2.rename(columns={'name':'# of fatal shootings'})\n",
    "del nvcount2['body_camera']\n",
    "del nvcount2['state']\n",
    "nvcount2\n",
    "\n",
    "nvfinal2 = nvfinal[nvfinal['body_camera']==True]\n",
    "\n",
    "nvd = pd.merge(nvfinal2,nvcount2, on = 'year', how='left')\n",
    "nvd = nvd.rename(columns={'name':'% of incidents with body cameras'})\n",
    "nvd"
   ]
  },
  {
   "cell_type": "code",
   "execution_count": null,
   "metadata": {},
   "outputs": [],
   "source": [
    "fig,ax3 = plt.subplots()\n",
    "y1 = nvd['% of incidents with body cameras']\n",
    "y2 = nvd['# of fatal shootings']\n",
    "x = nvd['year']\n",
    "ax4 = ax3.twinx()\n",
    "ax3.plot(x,y1,'g-')\n",
    "ax4.plot(x,y2,'b-')"
   ]
  },
  {
   "cell_type": "code",
   "execution_count": null,
   "metadata": {},
   "outputs": [],
   "source": [
    "state = cafinal.append(nvfinal)\n",
    "final = state.append(usfinal).rename(columns={'name':'% of incidents with body cameras'})\n",
    "\n",
    "final"
   ]
  },
  {
   "cell_type": "code",
   "execution_count": null,
   "metadata": {},
   "outputs": [],
   "source": [
    "statecount = cacount.append(nvcount)\n",
    "finalcount = statecount.append(uscount).rename(columns={'name':'# of fatal shooting'})\n",
    "finalcount = finalcount.groupby(['year','state']).sum()\n",
    "del finalcount['body_camera']\n",
    "finalcount = finalcount.reset_index()\n",
    "# finalcount = finalcount[finalcount['state']=='CA']\n",
    "finalcount.head()"
   ]
  },
  {
   "cell_type": "code",
   "execution_count": null,
   "metadata": {},
   "outputs": [],
   "source": [
    "gh = sb.FacetGrid(final, col = 'state', hue='body_camera')\n",
    "gh.map(sb.regplot, \"year\", '% of incidents with body cameras').add_legend() \n",
    "plt.show()"
   ]
  },
  {
   "cell_type": "code",
   "execution_count": null,
   "metadata": {},
   "outputs": [],
   "source": [
    "gh2 = sb.FacetGrid(finalcount, col = 'state')\n",
    "gh2.map(sb.regplot, \"year\", '# of fatal shooting').add_legend() \n",
    "plt.show()"
   ]
  },
  {
   "cell_type": "code",
   "execution_count": null,
   "metadata": {},
   "outputs": [],
   "source": [
    "sub = df[df['state'].isin(['CA','NV'])]\n",
    "statetable = pd.pivot_table(sub,values ='name', index='state',columns='year',aggfunc=lambda x: len(x.unique()))\n",
    "\n",
    "nationtable = pd.pivot_table(df,values ='name', columns='year',aggfunc=lambda x: len(x.unique()))\n",
    "\n",
    "combined = nationtable.append(statetable)\n",
    "combined = combined.rename(index={'name':\"US\"})\n",
    "combined.style.set_caption(\"Fatal Shooting by Year\")\n",
    "# list(combined.index.values)"
   ]
  },
  {
   "cell_type": "code",
   "execution_count": null,
   "metadata": {},
   "outputs": [],
   "source": []
  },
  {
   "cell_type": "code",
   "execution_count": null,
   "metadata": {},
   "outputs": [],
   "source": []
  },
  {
   "cell_type": "code",
   "execution_count": null,
   "metadata": {},
   "outputs": [],
   "source": [
    "table2.plot(kind='bar',title='%fatal shooting by Name#')"
   ]
  },
  {
   "cell_type": "code",
   "execution_count": null,
   "metadata": {},
   "outputs": [],
   "source": [
    "df['year'] = pd.DatetimeIndex(df['date']).year\n",
    "df"
   ]
  },
  {
   "cell_type": "code",
   "execution_count": null,
   "metadata": {},
   "outputs": [],
   "source": [
    "table3 = pd.pivot_table(df,values ='name', columns='body_camera',index='year',aggfunc=lambda x: len(x.unique()))\n",
    "table3"
   ]
  },
  {
   "cell_type": "code",
   "execution_count": null,
   "metadata": {},
   "outputs": [],
   "source": [
    "table4 = pd.pivot_table(df,values ='name', columns='body_camera',index='date',aggfunc=lambda x: len(x.unique()))\n",
    "table4"
   ]
  },
  {
   "cell_type": "code",
   "execution_count": null,
   "metadata": {},
   "outputs": [],
   "source": [
    "table3.plot(kind='area',title='fatal shootings by Name# over years')"
   ]
  },
  {
   "cell_type": "code",
   "execution_count": null,
   "metadata": {},
   "outputs": [],
   "source": [
    "table3.plot(kind='line',title='fatal shootings by Name# over years')"
   ]
  },
  {
   "cell_type": "code",
   "execution_count": null,
   "metadata": {},
   "outputs": [],
   "source": [
    "df_CA = df.loc[df['state'] == 'CA']\n",
    "df_CA"
   ]
  },
  {
   "cell_type": "code",
   "execution_count": null,
   "metadata": {},
   "outputs": [],
   "source": [
    "table_CA = pd.pivot_table(df_CA,values ='name', columns='body_camera',index='year',aggfunc=lambda x: len(x.unique()))\n",
    "table_CA"
   ]
  },
  {
   "cell_type": "code",
   "execution_count": null,
   "metadata": {},
   "outputs": [],
   "source": [
    "table_CA.plot(kind='line',title='CA fatal shootings by Name# over years')"
   ]
  },
  {
   "cell_type": "code",
   "execution_count": null,
   "metadata": {},
   "outputs": [],
   "source": [
    "df_NV = df.loc[df['state'] == 'NV']\n",
    "df_NV"
   ]
  },
  {
   "cell_type": "code",
   "execution_count": null,
   "metadata": {},
   "outputs": [],
   "source": [
    "table_NV = pd.pivot_table(df_NV,values ='name', columns='body_camera',index='year',aggfunc=lambda x: len(x.unique()))\n",
    "table_NV"
   ]
  },
  {
   "cell_type": "code",
   "execution_count": null,
   "metadata": {},
   "outputs": [],
   "source": [
    "table_NV.plot(kind='line',title='NV fatal shootings by Name# over years')"
   ]
  },
  {
   "cell_type": "code",
   "execution_count": null,
   "metadata": {},
   "outputs": [],
   "source": []
  }
 ],
 "metadata": {
  "kernelspec": {
   "display_name": "Python 3",
   "language": "python",
   "name": "python3"
  },
  "language_info": {
   "codemirror_mode": {
    "name": "ipython",
    "version": 3
   },
   "file_extension": ".py",
   "mimetype": "text/x-python",
   "name": "python",
   "nbconvert_exporter": "python",
   "pygments_lexer": "ipython3",
   "version": "3.6.5"
  }
 },
 "nbformat": 4,
 "nbformat_minor": 2
}
